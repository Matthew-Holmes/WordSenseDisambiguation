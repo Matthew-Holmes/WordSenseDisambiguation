{
 "cells": [
  {
   "cell_type": "markdown",
   "metadata": {},
   "source": [
    "# Chunking the large SemCore dataset\n",
    "\n",
    "Currently the generated .csv is roughly 150mb, and too large for a single pass processing, I want to be able to process chunks iteratively.\n",
    "\n",
    "In this notebook we'll break it down into smaller files, and save those chunks."
   ]
  },
  {
   "cell_type": "code",
   "execution_count": 1,
   "metadata": {},
   "outputs": [],
   "source": [
    "import pandas as pd"
   ]
  },
  {
   "cell_type": "code",
   "execution_count": 2,
   "metadata": {},
   "outputs": [],
   "source": [
    "df = pd.read_csv('Data/Processed/SemCoreProcessed.csv')"
   ]
  },
  {
   "cell_type": "code",
   "execution_count": 3,
   "metadata": {},
   "outputs": [
    {
     "data": {
      "text/html": [
       "<div>\n",
       "<style scoped>\n",
       "    .dataframe tbody tr th:only-of-type {\n",
       "        vertical-align: middle;\n",
       "    }\n",
       "\n",
       "    .dataframe tbody tr th {\n",
       "        vertical-align: top;\n",
       "    }\n",
       "\n",
       "    .dataframe thead th {\n",
       "        text-align: right;\n",
       "    }\n",
       "</style>\n",
       "<table border=\"1\" class=\"dataframe\">\n",
       "  <thead>\n",
       "    <tr style=\"text-align: right;\">\n",
       "      <th></th>\n",
       "      <th>word</th>\n",
       "      <th>sentence</th>\n",
       "      <th>word_loc</th>\n",
       "      <th>wordnet</th>\n",
       "      <th>definition</th>\n",
       "      <th>definitions</th>\n",
       "    </tr>\n",
       "  </thead>\n",
       "  <tbody>\n",
       "    <tr>\n",
       "      <th>226031</th>\n",
       "      <td>given</td>\n",
       "      <td>While the interpretations that have been given...</td>\n",
       "      <td>6</td>\n",
       "      <td>give%2:40:05::</td>\n",
       "      <td>be the cause or source of</td>\n",
       "      <td>the elasticity of something that can be stretc...</td>\n",
       "    </tr>\n",
       "    <tr>\n",
       "      <th>226032</th>\n",
       "      <td>are</td>\n",
       "      <td>While the interpretations that have been given...</td>\n",
       "      <td>7</td>\n",
       "      <td>be%2:42:03::</td>\n",
       "      <td>have the quality of being; (copula, used with ...</td>\n",
       "      <td>a light strong brittle grey toxic bivalent met...</td>\n",
       "    </tr>\n",
       "    <tr>\n",
       "      <th>226033</th>\n",
       "      <td>gain</td>\n",
       "      <td>While the interpretations that have been given...</td>\n",
       "      <td>12</td>\n",
       "      <td>gain%2:40:03::</td>\n",
       "      <td>obtain</td>\n",
       "      <td>a quantity that is added|the advantageous qual...</td>\n",
       "    </tr>\n",
       "    <tr>\n",
       "      <th>226034</th>\n",
       "      <td>made</td>\n",
       "      <td>While the interpretations that have been given...</td>\n",
       "      <td>23</td>\n",
       "      <td>make%2:41:00::</td>\n",
       "      <td>engage in</td>\n",
       "      <td>a recognizable kind|the act of mixing cards ha...</td>\n",
       "    </tr>\n",
       "    <tr>\n",
       "      <th>226035</th>\n",
       "      <td>perceive</td>\n",
       "      <td>While the interpretations that have been given...</td>\n",
       "      <td>39</td>\n",
       "      <td>perceive%2:39:00::</td>\n",
       "      <td>to become aware of through the senses</td>\n",
       "      <td>to become aware of through the senses|become c...</td>\n",
       "    </tr>\n",
       "  </tbody>\n",
       "</table>\n",
       "</div>"
      ],
      "text/plain": [
       "            word                                           sentence  word_loc  \\\n",
       "226031     given  While the interpretations that have been given...         6   \n",
       "226032       are  While the interpretations that have been given...         7   \n",
       "226033      gain  While the interpretations that have been given...        12   \n",
       "226034      made  While the interpretations that have been given...        23   \n",
       "226035  perceive  While the interpretations that have been given...        39   \n",
       "\n",
       "                   wordnet                                         definition  \\\n",
       "226031      give%2:40:05::                          be the cause or source of   \n",
       "226032        be%2:42:03::  have the quality of being; (copula, used with ...   \n",
       "226033      gain%2:40:03::                                             obtain   \n",
       "226034      make%2:41:00::                                          engage in   \n",
       "226035  perceive%2:39:00::              to become aware of through the senses   \n",
       "\n",
       "                                              definitions  \n",
       "226031  the elasticity of something that can be stretc...  \n",
       "226032  a light strong brittle grey toxic bivalent met...  \n",
       "226033  a quantity that is added|the advantageous qual...  \n",
       "226034  a recognizable kind|the act of mixing cards ha...  \n",
       "226035  to become aware of through the senses|become c...  "
      ]
     },
     "execution_count": 3,
     "metadata": {},
     "output_type": "execute_result"
    }
   ],
   "source": [
    "df.tail()"
   ]
  },
  {
   "cell_type": "markdown",
   "metadata": {},
   "source": [
    "We have 226k examples, I'll break the dataset into 2260 chunks"
   ]
  },
  {
   "cell_type": "code",
   "execution_count": 4,
   "metadata": {},
   "outputs": [],
   "source": [
    "del df"
   ]
  },
  {
   "cell_type": "code",
   "execution_count": null,
   "metadata": {},
   "outputs": [
    {
     "name": "stderr",
     "output_type": "stream",
     "text": [
      "  0%|                                                                                | 3/2261 [00:10<2:16:30,  3.63s/it]\n"
     ]
    }
   ],
   "source": [
    "import os\n",
    "from tqdm import tqdm\n",
    "\n",
    "input_file = 'Data/Processed/SemCoreProcessed.csv'\n",
    "output_dir = \"Data/Processed/SemCoreChunks\"\n",
    "chunk_size = 100\n",
    "\n",
    "os.makedirs(output_dir, exist_ok=True)\n",
    "\n",
    "for i, chunk in tqdm(enumerate(pd.read_csv(input_file, chunksize=chunk_size)), total = 2261):\n",
    "    chunk.to_csv(f\"{output_dir}/chunk_{i}.csv\", index=False)"
   ]
  },
  {
   "cell_type": "code",
   "execution_count": null,
   "metadata": {},
   "outputs": [],
   "source": []
  }
 ],
 "metadata": {
  "kernelspec": {
   "display_name": "WordSenseDisambiguation",
   "language": "python",
   "name": "wordsensedisambiguation"
  },
  "language_info": {
   "codemirror_mode": {
    "name": "ipython",
    "version": 3
   },
   "file_extension": ".py",
   "mimetype": "text/x-python",
   "name": "python",
   "nbconvert_exporter": "python",
   "pygments_lexer": "ipython3",
   "version": "3.12.3"
  }
 },
 "nbformat": 4,
 "nbformat_minor": 2
}
