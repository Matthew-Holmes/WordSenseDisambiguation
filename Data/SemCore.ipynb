{
 "cells": [
  {
   "cell_type": "markdown",
   "metadata": {},
   "source": [
    "# SemCore dataset\n",
    "\n",
    "In this notebook we'll break down how the SemCore dataset is organised, and see if it will come in useful"
   ]
  },
  {
   "cell_type": "code",
   "execution_count": 11,
   "metadata": {},
   "outputs": [],
   "source": [
    "import pandas as pd\n",
    "import xml.etree.ElementTree as ET"
   ]
  },
  {
   "cell_type": "code",
   "execution_count": 12,
   "metadata": {},
   "outputs": [],
   "source": [
    "semcore_xml = \"Data/Raw/semcor.data.xml\""
   ]
  },
  {
   "cell_type": "code",
   "execution_count": null,
   "metadata": {},
   "outputs": [],
   "source": [
    "tree = ET.parse(semcore_xml)\n",
    "root = tree.getroot()"
   ]
  },
  {
   "cell_type": "code",
   "execution_count": 18,
   "metadata": {},
   "outputs": [
    {
     "name": "stdout",
     "output_type": "stream",
     "text": [
      "root.tag='corpus'\n",
      "root.attrib={'lang': 'en', 'source': 'semcor'}\n"
     ]
    }
   ],
   "source": [
    "print(f'{root.tag=}')\n",
    "print(f'{root.attrib=}')"
   ]
  },
  {
   "cell_type": "code",
   "execution_count": 20,
   "metadata": {},
   "outputs": [
    {
     "name": "stdout",
     "output_type": "stream",
     "text": [
      "child.tag='text' child.attrib={'id': 'd000', 'source': 'br-e30'}\n",
      "child.tag='text' child.attrib={'id': 'd001', 'source': 'br-l15'}\n",
      "child.tag='text' child.attrib={'id': 'd002', 'source': 'br-f16'}\n",
      "child.tag='text' child.attrib={'id': 'd003', 'source': 'br-j42'}\n",
      "child.tag='text' child.attrib={'id': 'd004', 'source': 'br-g18'}\n",
      "child.tag='text' child.attrib={'id': 'd005', 'source': 'br-e26'}\n",
      "child.tag='text' child.attrib={'id': 'd006', 'source': 'br-f18'}\n",
      "child.tag='text' child.attrib={'id': 'd007', 'source': 'br-f24'}\n",
      "child.tag='text' child.attrib={'id': 'd008', 'source': 'br-n17'}\n",
      "child.tag='text' child.attrib={'id': 'd009', 'source': 'br-h17'}\n"
     ]
    }
   ],
   "source": [
    "i = 0\n",
    "for child in root:\n",
    "    print(f'{child.tag=}', f'{child.attrib=}')\n",
    "    i = i + 1\n",
    "    if i == 10:\n",
    "        break"
   ]
  }
 ],
 "metadata": {
  "kernelspec": {
   "display_name": "Python WSD",
   "language": "python",
   "name": "env"
  },
  "language_info": {
   "codemirror_mode": {
    "name": "ipython",
    "version": 3
   },
   "file_extension": ".py",
   "mimetype": "text/x-python",
   "name": "python",
   "nbconvert_exporter": "python",
   "pygments_lexer": "ipython3",
   "version": "3.12.3"
  }
 },
 "nbformat": 4,
 "nbformat_minor": 2
}
