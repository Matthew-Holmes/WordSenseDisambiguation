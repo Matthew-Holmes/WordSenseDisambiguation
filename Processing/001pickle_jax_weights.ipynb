{
 "cells": [
  {
   "cell_type": "markdown",
   "metadata": {},
   "source": [
    "## Converting and saving the weights"
   ]
  },
  {
   "cell_type": "code",
   "execution_count": 5,
   "metadata": {},
   "outputs": [],
   "source": [
    "import sys\n",
    "import os\n",
    "\n",
    "os.getcwd()\n",
    "project_path = os.path.abspath(\"LLM\")\n",
    "\n",
    "if project_path not in sys.path:\n",
    "    sys.path.append(project_path)"
   ]
  },
  {
   "cell_type": "code",
   "execution_count": 6,
   "metadata": {},
   "outputs": [],
   "source": [
    "import torch\n",
    "from safetensors.torch import load_file\n",
    "safetensors_path = \"/home/matt/.llama/checkpoints/Llama3.2-1B-hf/model.safetensors\"  \n",
    "weights = load_file(safetensors_path)"
   ]
  },
  {
   "cell_type": "code",
   "execution_count": null,
   "metadata": {},
   "outputs": [
    {
     "name": "stderr",
     "output_type": "stream",
     "text": [
      "WARNING:2025-03-08 16:45:48,957:jax._src.xla_bridge:966: An NVIDIA GPU may be present on this machine, but a CUDA-enabled jaxlib is not installed. Falling back to cpu.\n"
     ]
    }
   ],
   "source": [
    "from llama_jax.model import precompute_freqs_cis\n",
    "\n",
    "dim = 2048 // 32 \n",
    "theta = 500_000\n",
    "freq_cis_jax = precompute_freqs_cis(dim, 2048, theta, True, 32, 8192)"
   ]
  },
  {
   "cell_type": "code",
   "execution_count": null,
   "metadata": {},
   "outputs": [
    {
     "name": "stderr",
     "output_type": "stream",
     "text": [
      "100%|███████████████████████████████████████████████████████████████████████████████████| 16/16 [00:12<00:00,  1.29it/s]\n"
     ]
    }
   ],
   "source": [
    "from tqdm import tqdm\n",
    "import jax.numpy as jnp\n",
    "\n",
    "to_jax = lambda pt : jnp.array(pt.detach().float().numpy(), dtype=jnp.bfloat16)\n",
    "\n",
    "num_layers = 16\n",
    "layer_weights = []\n",
    "\n",
    "keys_left = weights.keys()\n",
    "\n",
    "# reverse the range because we'll remove keys we have seen already\n",
    "# this will help because e.g. 1 is in 15, but 15 is not in 1 \n",
    "\n",
    "layer_params = []\n",
    "\n",
    "for i in tqdm(reversed(range(num_layers)), total = num_layers):\n",
    "\n",
    "    layer_keys = [key for key in keys_left if (str(i) in key)]\n",
    "    keys_left  = list(set(keys_left) - set(layer_keys))\n",
    "    \n",
    "    attention_params = {\n",
    "        \"wq\" : to_jax(weights[f\"model.layers.{i}.self_attn.q_proj.weight\"]),\n",
    "        \"wk\" : to_jax(weights[f\"model.layers.{i}.self_attn.k_proj.weight\"]),\n",
    "        \"wv\" : to_jax(weights[f\"model.layers.{i}.self_attn.v_proj.weight\"]),\n",
    "        \"wo\" : to_jax(weights[f\"model.layers.{i}.self_attn.o_proj.weight\"])\n",
    "    }\n",
    "\n",
    "    ff_params = {\n",
    "        \"up\"   : to_jax(weights[f\"model.layers.{i}.mlp.up_proj.weight\"]),\n",
    "        \"gate\" : to_jax(weights[f\"model.layers.{i}.mlp.gate_proj.weight\"]), \n",
    "        \"down\" : to_jax(weights[f\"model.layers.{i}.mlp.down_proj.weight\"])\n",
    "    }\n",
    "\n",
    "    norm_params = {\n",
    "        \"pre_attention_rms\"  : to_jax(weights[f\"model.layers.{i}.input_layernorm.weight\"]),\n",
    "        \"post_attention_rms\" : to_jax(weights[f\"model.layers.{i}.post_attention_layernorm.weight\"])\n",
    "    }\n",
    "\n",
    "    param_pytree = {\n",
    "        \"attention\"    : attention_params,\n",
    "        \"feed_forward\" : ff_params,\n",
    "        \"norms\"        : norm_params\n",
    "    }\n",
    "\n",
    "    layer_params.append(param_pytree)\n",
    "\n",
    "layer_params.reverse()\n",
    "\n",
    "params_jax = {\n",
    "    \"tok_embeddings\" : to_jax(weights[\"model.embed_tokens.weight\"]),\n",
    "    \"freqs_cis\"      : freq_cis_jax,\n",
    "    \"layers\"         : layer_params,\n",
    "    \"norm_scale\"     : to_jax(weights[\"model.norm.weight\"]),\n",
    "    \"output_weight\"  : to_jax(weights[\"model.embed_tokens.weight\"])\n",
    "}"
   ]
  },
  {
   "cell_type": "code",
   "execution_count": 14,
   "metadata": {},
   "outputs": [],
   "source": [
    "import pickle\n",
    "\n",
    "with open(\"Data/ModelWeights/llama_jax_weights.pkl\", \"wb\") as f:\n",
    "    pickle.dump(params_jax, f)"
   ]
  },
  {
   "cell_type": "code",
   "execution_count": 1,
   "metadata": {},
   "outputs": [
    {
     "name": "stderr",
     "output_type": "stream",
     "text": [
      "WARNING:2025-03-08 16:53:10,826:jax._src.xla_bridge:966: An NVIDIA GPU may be present on this machine, but a CUDA-enabled jaxlib is not installed. Falling back to cpu.\n"
     ]
    }
   ],
   "source": [
    "import pickle\n",
    "\n",
    "with open(\"Data/ModelWeights/llama_jax_weights.pkl\", \"rb\") as f:\n",
    "    params_jax_loaded = pickle.load(f)"
   ]
  }
 ],
 "metadata": {
  "kernelspec": {
   "display_name": "WordSenseDisambiguation",
   "language": "python",
   "name": "wordsensedisambiguation"
  },
  "language_info": {
   "codemirror_mode": {
    "name": "ipython",
    "version": 3
   },
   "file_extension": ".py",
   "mimetype": "text/x-python",
   "name": "python",
   "nbconvert_exporter": "python",
   "pygments_lexer": "ipython3",
   "version": "3.12.3"
  }
 },
 "nbformat": 4,
 "nbformat_minor": 2
}
