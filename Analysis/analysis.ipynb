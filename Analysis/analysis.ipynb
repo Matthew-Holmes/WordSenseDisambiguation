{
 "cells": [
  {
   "cell_type": "markdown",
   "metadata": {},
   "source": [
    "# Word Sense Disambugation"
   ]
  },
  {
   "cell_type": "code",
   "execution_count": 4,
   "metadata": {},
   "outputs": [],
   "source": [
    "import sys\n",
    "import os\n",
    "\n",
    "os.getcwd()\n",
    "project_path = os.path.abspath(\"Processing\")\n",
    "project_path = os.path.abspath(\"LLM\")\n",
    "\n",
    "if project_path not in sys.path:\n",
    "    sys.path.append(project_path)"
   ]
  },
  {
   "cell_type": "code",
   "execution_count": 5,
   "metadata": {},
   "outputs": [],
   "source": [
    "from Processing.script import load_jax_array, unzip_jax_store"
   ]
  },
  {
   "cell_type": "code",
   "execution_count": null,
   "metadata": {},
   "outputs": [],
   "source": [
    "chunk_csv_file = \"../Data/Processed/SemCoreChunks/chunk_0.csv\"\n",
    "chunk_jax_store = \"../Data/Processed/jax_store/chunk_0.zip\"\n"
   ]
  },
  {
   "cell_type": "code",
   "execution_count": null,
   "metadata": {},
   "outputs": [],
   "source": [
    "python script.py \\\n",
    "    --input-csv ../Data/Processed/SemCoreChunks/chunk_0.csv \\\n",
    "    --output-csv ../Data/Processed/ProcessedSemCoreChunks/chunk_0.csv \\\n",
    "    --chunk-store ../Data/Processed/jax_store/chunk_0 \\\n",
    "    --tokenizer /home/matt/.llama/checkpoints/Llama3.2-1B-hf-tok/tokenizer.model \\\n",
    "    --model-weights ../Data/ModelWeights/llama_jax_weights.pkl\n"
   ]
  }
 ],
 "metadata": {
  "kernelspec": {
   "display_name": "WordSenseDisambiguation",
   "language": "python",
   "name": "wordsensedisambiguation"
  },
  "language_info": {
   "codemirror_mode": {
    "name": "ipython",
    "version": 3
   },
   "file_extension": ".py",
   "mimetype": "text/x-python",
   "name": "python",
   "nbconvert_exporter": "python",
   "pygments_lexer": "ipython3",
   "version": "3.12.3"
  }
 },
 "nbformat": 4,
 "nbformat_minor": 2
}
